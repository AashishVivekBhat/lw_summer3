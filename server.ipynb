{
 "cells": [
  {
   "cell_type": "code",
   "execution_count": null,
   "metadata": {},
   "outputs": [],
   "source": [
    "# TASK_3 : SERVER SIDE "
   ]
  },
  {
   "cell_type": "code",
   "execution_count": null,
   "metadata": {},
   "outputs": [
    {
     "name": "stdout",
     "output_type": "stream",
     "text": [
      "Host IP address: 192.168.56.1\n",
      "Socket Successfully Created !!!\n",
      "Socket Bind Successfull !!!\n",
      "Listening at: ('192.168.1.3', 1234)\n"
     ]
    }
   ],
   "source": [
    "import cv2 \n",
    "import struct\n",
    "import pickle \n",
    "import socket as sock\n",
    "\n",
    "server = sock.socket(sock.AF_INET,sock.SOCK_STREAM)\n",
    "host_name  = sock.gethostname()\n",
    "host_ip = sock.gethostbyname(host_name)      \n",
    "print('Host IP address:',host_ip)\n",
    "\n",
    "s_addr = ('192.168.1.3',1234)       # server IP and Port number\n",
    "print(\"Socket Successfully Created !!!\")\n",
    "\n",
    "server.bind(s_addr)\n",
    "print(\"Socket Bind Successfull !!!\")\n",
    "\n",
    "server.listen(5)\n",
    "print(\"Listening at:\",s_addr)\n",
    "\n",
    "while True:\n",
    "    client,addr = server.accept()\n",
    "    print('Connection from :',addr)\n",
    "    if client:\n",
    "        vid = cv2.VideoCapture(0)\n",
    "        \n",
    "        while(vid.isOpened()):\n",
    "            img,frame = vid.read()\n",
    "            a = pickle.dumps(frame)\n",
    "            message = struct.pack(\"Q\",len(a))+a\n",
    "            client.sendall(message)\n",
    "            \n",
    "            cv2.imshow('Transmitting Video',frame)\n",
    "            key = cv2.waitKey(1) & 0xFF\n",
    "            if key == ord('q'):\n",
    "                client.close()"
   ]
  },
  {
   "cell_type": "code",
   "execution_count": null,
   "metadata": {},
   "outputs": [],
   "source": []
  }
 ],
 "metadata": {
  "kernelspec": {
   "display_name": "Python 3",
   "language": "python",
   "name": "python3"
  },
  "language_info": {
   "codemirror_mode": {
    "name": "ipython",
    "version": 3
   },
   "file_extension": ".py",
   "mimetype": "text/x-python",
   "name": "python",
   "nbconvert_exporter": "python",
   "pygments_lexer": "ipython3",
   "version": "3.8.3"
  }
 },
 "nbformat": 4,
 "nbformat_minor": 4
}
